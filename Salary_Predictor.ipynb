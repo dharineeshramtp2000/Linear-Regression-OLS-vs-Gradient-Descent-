{
  "nbformat": 4,
  "nbformat_minor": 0,
  "metadata": {
    "colab": {
      "name": "Salary_Predictor.ipynb",
      "provenance": [],
      "authorship_tag": "ABX9TyNiO79MbIlhEzAPkpXPnO+J",
      "include_colab_link": true
    },
    "kernelspec": {
      "name": "python3",
      "display_name": "Python 3"
    }
  },
  "cells": [
    {
      "cell_type": "markdown",
      "metadata": {
        "id": "view-in-github",
        "colab_type": "text"
      },
      "source": [
        "<a href=\"https://colab.research.google.com/github/dharineeshramtp2000/Linear-Regression-OLS-vs-Gradient-Descent-/blob/master/Salary_Predictor.ipynb\" target=\"_parent\"><img src=\"https://colab.research.google.com/assets/colab-badge.svg\" alt=\"Open In Colab\"/></a>"
      ]
    },
    {
      "cell_type": "code",
      "metadata": {
        "id": "07goxJaFbz3U",
        "colab_type": "code",
        "colab": {}
      },
      "source": [
        "# import the libraries\n",
        "import numpy as np\n",
        "import pandas as pd\n",
        "import  matplotlib.pyplot as plt\n",
        "\n",
        "#import the dataset\n",
        "Dataset = pd.read_csv('Salary_Data.csv')\n",
        "X = Dataset.iloc[:,0].values\n",
        "y = Dataset.iloc[:,-1].values\n",
        "\n",
        "#splitting the data into train and test\n",
        "from sklearn.model_selection import train_test_split\n",
        "X_train , X_test , y_train , y_test = train_test_split(X, y, test_size = 0.2, random_state = 42 )\n",
        "\n",
        "X_train = np.array(X_train)\n",
        "X_train = X_train.reshape(-1,1)\n",
        "\n",
        "y_train = np.array(y_train)\n",
        "y_train = y_train.reshape(-1,1)"
      ],
      "execution_count": 0,
      "outputs": []
    },
    {
      "cell_type": "code",
      "metadata": {
        "id": "vvZu2vOUcSk5",
        "colab_type": "code",
        "colab": {
          "base_uri": "https://localhost:8080/",
          "height": 70
        },
        "outputId": "9c12d2bd-795f-4fd3-d05d-626899e05a41"
      },
      "source": [
        "#importing the linear regression models\n",
        "from sklearn.linear_model import LinearRegression , SGDRegressor\n",
        "# Creating the object instance for OLS(Ordinary Least Square Method)\n",
        "regressor1 = LinearRegression()\n",
        "regressor1.fit(X_train, y_train)\n",
        "\n",
        "#Predicting the output for our OLS Linear Model\n",
        "y_pred1 = regressor1.predict(X_test.reshape(-1,1))\n",
        "\n",
        "# Creating the object instance for SGD(Stochastic Gradient Descent)\n",
        "regressor2 = SGDRegressor(max_iter=1000, tol=1e-3, alpha =0.001, random_state = 42, learning_rate = 'constant' , eta0 = 0.001)\n",
        "regressor2.fit(X_train, y_train)\n",
        "\n",
        "#Predicting the output for our SGD Linear Model\n",
        "y_pred2 = regressor2.predict(X_test.reshape(-1,1))\n"
      ],
      "execution_count": 2,
      "outputs": [
        {
          "output_type": "stream",
          "text": [
            "/usr/local/lib/python3.6/dist-packages/sklearn/utils/validation.py:760: DataConversionWarning: A column-vector y was passed when a 1d array was expected. Please change the shape of y to (n_samples, ), for example using ravel().\n",
            "  y = column_or_1d(y, warn=True)\n"
          ],
          "name": "stderr"
        }
      ]
    },
    {
      "cell_type": "code",
      "metadata": {
        "id": "D2-pY_AYcYXP",
        "colab_type": "code",
        "colab": {
          "base_uri": "https://localhost:8080/",
          "height": 573
        },
        "outputId": "62441444-910d-465f-df51-cdd7e7d91edd"
      },
      "source": [
        "plt.scatter(X_train,y_train, color ='red')\n",
        "plt.plot(X_train, regressor1.predict(X_train.reshape(-1,1)), color = 'blue')\n",
        "plt.plot(X_train, regressor2.predict(X_train.reshape(-1,1)), color = 'orange')\n",
        "plt.title('Salary vs Experience')\n",
        "plt.xlabel(\"Experience in Years\")\n",
        "plt.ylabel(\"Salary\")\n",
        "plt.show()\n",
        "\n",
        "# Graphical Representation of our models w.r.t the test set results\n",
        "plt.scatter(X_test,y_test, color ='red')\n",
        "plt.plot(X_train, regressor1.predict(X_train.reshape(-1,1)), color = 'blue')\n",
        "plt.plot(X_train, regressor2.predict(X_train.reshape(-1,1)), color = 'orange')\n",
        "plt.title('Salary vs Experience')\n",
        "plt.xlabel(\"Experience in Years\")\n",
        "plt.ylabel(\"Salary\")\n",
        "plt.show()"
      ],
      "execution_count": 3,
      "outputs": [
        {
          "output_type": "display_data",
          "data": {
            "image/png": "[encoded data removed]",
            "text/plain": [
              "<Figure size 432x288 with 1 Axes>"
            ]
          },
          "metadata": {
            "tags": [],
            "needs_background": "light"
          }
        },
        {
          "output_type": "display_data",
          "data": {
            "image/png": "[encoded data removed]",
            "text/plain": [
              "<Figure size 432x288 with 1 Axes>"
            ]
          },
          "metadata": {
            "tags": [],
            "needs_background": "light"
          }
        }
      ]
    },
    {
      "cell_type": "code",
      "metadata": {
        "id": "NoGm_tcOcdpu",
        "colab_type": "code",
        "colab": {
          "base_uri": "https://localhost:8080/",
          "height": 50
        },
        "outputId": "09eb842c-019c-4da1-92c8-16d2a372c5c9"
      },
      "source": [
        "# Now lets calculate the Coefficient of Determination\n",
        "from sklearn.metrics import r2_score\n",
        "\n",
        "#r2 for OLS model\n",
        "r_squared1 = r2_score(y_test, y_pred1)\n",
        "\n",
        "#r2 for OLS model\n",
        "r_squared2 = r2_score(y_test, y_pred2)\n",
        "\n",
        "print(\"Coeffiecient of Determination for OLS linear model= \", r_squared1)\n",
        "print(\"Coeffiecient of Determination for SGD linear model= \", r_squared2)"
      ],
      "execution_count": 5,
      "outputs": [
        {
          "output_type": "stream",
          "text": [
            "Coeffiecient of Determination for OLS linear model=  0.9024461774180497\n",
            "Coeffiecient of Determination for SGD linear model=  0.8869256859580719\n"
          ],
          "name": "stdout"
        }
      ]
    },
    {
      "cell_type": "markdown",
      "metadata": {
        "id": "YRyB68Edcuq6",
        "colab_type": "text"
      },
      "source": [
        "Hence we can find that the CoD for both **OLS** and  **SGD** is almost the same.\n",
        "Hence for a small and evenly distributed dataset , the **OLS** and **SGD** almost perform a good prediction. The **SGD** model can be further improved by tuning the parameters like learning_rate, alpha, max_iter and so on.\n",
        "\n"
      ]
    }
  ]
}